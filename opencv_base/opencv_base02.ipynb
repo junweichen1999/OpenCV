{
 "cells": [
  {
   "cell_type": "markdown",
   "metadata": {},
   "source": [
    "# OpenCV 對於圖片的基本操作\n",
    "- 1.讀取圖片\n",
    "- 2.讀取影片\n",
    "    - 2-1. 讀取影片\n",
    "    - 2-2. 使用攝像頭\n",
    "- 3.numpy對於圖片的操作\n",
    "- 4.常用函示  \n",
    "    - gbr to gray\n",
    "    - gaussian高斯模糊\n",
    "    - canny圖案的邊緣\n",
    "    - dilate膨脹\n",
    "    - erode 侵蝕(變細)\n",
    "- 5.畫圖形寫字\n",
    "    - 畫直線\n",
    "    - 畫方形 (填滿)\n",
    "    - 圓形\n",
    "    - 文字(目前不支援寫中文，後續待研究)\n",
    "- 6.偵測顏色(尚未完成)\n",
    "- 7.輪廓檢測(形狀識別)"
   ]
  },
  {
   "cell_type": "markdown",
   "metadata": {},
   "source": []
  },
  {
   "cell_type": "markdown",
   "metadata": {},
   "source": [
    "## 1. 讀取圖片"
   ]
  },
  {
   "cell_type": "code",
   "execution_count": 1,
   "metadata": {},
   "outputs": [],
   "source": [
    "import cv2\n",
    "\n",
    "img = cv2.imread(\"sugardaddy.jpg\")\n",
    "\n",
    "# 調整圖片大小並將結果賦值給 img\n",
    "#dimg = cv2.resize(img, (200, 200))\n",
    "\n",
    "# 用長寬比例去改圖片大小\n",
    "img2 = cv2.resize(img, (0, 0), fx=2, fy=2)\n",
    "\n",
    "cv2.imshow('test for first image read', img2)\n",
    "cv2.waitKey(15000)\n",
    "cv2.destroyAllWindows()\n"
   ]
  },
  {
   "cell_type": "markdown",
   "metadata": {},
   "source": [
    "## 2.讀取影片(包括鏡頭)"
   ]
  },
  {
   "cell_type": "code",
   "execution_count": 1,
   "metadata": {},
   "outputs": [],
   "source": [
    "import cv2\n",
    "# 取得影片之路徑 \n",
    "#cap = cv2.VideoCapture(\"video_test01.mp4\")\n",
    "# 取得視訊鏡頭的畫面\n",
    "cap = cv2.VideoCapture(0)\n",
    "\n",
    "\n",
    "while True:\n",
    "    ret, frame = cap.read()\n",
    "    frame = cv2.resize(frame, (0,0),fx=1.2, fy=1.2)\n",
    "\n",
    "    if ret:\n",
    "        cv2.imshow(\"video\", frame)\n",
    "    else:\n",
    "        break\n",
    "    #每取得1針 會等待100毫秒 如果監聽到q按下去(跳出迴圈)waitKey等待鍵盤某個鍵被按下去\n",
    "    if cv2.waitKey(10) == ord(\"q\"):\n",
    "        cv2.destroyAllWindows()\n",
    "        break\n",
    "    \n",
    "# 釋放攝像頭資源\n",
    "cap.release()"
   ]
  },
  {
   "cell_type": "markdown",
   "metadata": {},
   "source": [
    "## 3. numpy與電腦儲存圖片的關係\n",
    "- 使用numpy製作片\n",
    "- 使用迴圈去改讀近來圖片的指定迴圈維度"
   ]
  },
  {
   "cell_type": "code",
   "execution_count": 26,
   "metadata": {},
   "outputs": [
    {
     "name": "stdout",
     "output_type": "stream",
     "text": [
      "(1229, 1229, 3)\n",
      "高度，寬度，維度(幾個顏色)\n"
     ]
    }
   ],
   "source": [
    "# the relationship between numpy and picture \n",
    "import cv2\n",
    "import numpy as np \n",
    "import random\n",
    "\n",
    "\n",
    "img = cv2.imread(\"sugardaddy.jpg\")\n",
    "\n",
    "#print(type(img))\n",
    "print(img.shape)\n",
    "print(\"高度，寬度，維度(幾個顏色)\")\n",
    "# result: (1229, 1229, 3) 三個維度\n",
    "\n",
    "\n",
    "# using numpy to create a real picture\n",
    "# 2進制，0-255，是2**8(8個bit) 的正整數\n",
    "#img = np.empty((300,300,3), np.uint8)\n",
    "\n",
    "\n",
    "#把讀進來的圖做一個一維 作隨機填色的迴圈\n",
    "for row in range(300):\n",
    "    for column in range(img.shape[1]):\n",
    "        img[row][column] = [random.randint(0,255), random.randint(0,255), random.randint(0,255)]\n",
    "\n",
    "\n",
    "cv2.imshow(\"img which using numpy to create\",img)\n",
    "cv2.waitKey(0)\n",
    "cv2.destroyAllWindows()\n"
   ]
  },
  {
   "cell_type": "code",
   "execution_count": 6,
   "metadata": {},
   "outputs": [],
   "source": [
    "import cv2\n",
    "import numpy as np \n",
    "\n",
    "\n",
    "img = cv2.imread(\"sugardaddy.jpg\")\n",
    "#          高度寬度\n",
    "img2 = img[300:600, 300:600 ]\n",
    "\n",
    "\n",
    "cv2.imshow(\"the original picture\",img)\n",
    "cv2.imshow(\"the capture one\",img2)\n",
    "\n",
    "cv2.waitKey(0)\n",
    "cv2.destroyAllWindows()\n",
    "\n"
   ]
  },
  {
   "cell_type": "markdown",
   "metadata": {},
   "source": [
    "## 4.常用函示\n",
    "(open cv中不是rgb 是gbr)\n",
    "- gbr to gray\n",
    "- gaussian高斯模糊\n",
    "- canny圖案的輪廓\n",
    "- dilate膨脹\n",
    "- erode 侵蝕(變細)"
   ]
  },
  {
   "cell_type": "code",
   "execution_count": 1,
   "metadata": {},
   "outputs": [],
   "source": [
    "import cv2\n",
    "import numpy as np \n",
    "\n",
    "kernal= np.ones((5,5) ,np.uint8)\n",
    "kernal2= np.ones((5,5) ,np.uint8)\n",
    "\n",
    "img = cv2.imread(\"sugardaddy.jpg\")\n",
    "# 用長寬比例去改圖片大小\n",
    "img2 = cv2.resize(img, (0, 0), fx=0.5, fy=0.5)\n",
    "img3 = cv2.cvtColor(img2, cv2.COLOR_BGR2GRAY)\n",
    "# 圖片, 核 , 標準差\n",
    "img4 = cv2.GaussianBlur(img2, (9, 9), 3)\n",
    "# 圖片，最低門檻值， 最高門檻值\n",
    "# 以canny取邊緣 是利用像素點之間的差距(canny對每一個像素打一個分數(周圍的像素差別大小分數越高差距越大))\n",
    "# 最低門檻值 以下濾掉 最高門檻值:超過即當作邊緣來看\n",
    "img5 = cv2.Canny(img2,150,200)\n",
    "# 圖片 核(形態要是一個陣列) 膨脹幾次  kernal越大 也會膨脹越多\n",
    "img6 = cv2.dilate(img5, kernal, iterations=1)\n",
    "\n",
    "img7 = cv2.erode(img6, kernal2,iterations=1)\n",
    "\n",
    "cv2.imshow('test for first image read', img2)\n",
    "cv2.imshow('the gray version of img', img3)\n",
    "cv2.imshow('the blur version of img', img4)\n",
    "cv2.imshow('the canny version of img', img5)\n",
    "cv2.imshow('the dilate version of img', img6)\n",
    "cv2.imshow('the erode version of img', img7)\n",
    "\n",
    "cv2.waitKey(15000)\n",
    "cv2.destroyAllWindows()\n"
   ]
  },
  {
   "cell_type": "markdown",
   "metadata": {},
   "source": [
    "## 5.畫圖型\n",
    "- 畫直線\n",
    "- 畫方形 (填滿)\n",
    "- 圓形\n",
    "- 文字(目前不支援寫中文，後續待研究)"
   ]
  },
  {
   "cell_type": "code",
   "execution_count": 34,
   "metadata": {},
   "outputs": [],
   "source": [
    "import cv2\n",
    "import numpy\n",
    "\n",
    "\n",
    "img = np.zeros((600 , 600, 3 ),np.uint8)\n",
    "# 畫在甚麼背景之上 ，開始 ，結束， 顏色，粗度\n",
    "#line = cv2.line(img, (0,0),(600,600),(255,255), 5)\n",
    "cv2.line(img, (0,0),(img.shape[1],img.shape[0]),(255,255,2), 5)\n",
    "# 左上腳的點 右下腳的點  顏色 粗度 \n",
    "#cv2.rectangle(img, (0,0),(500,500), (55,55,100) ,5)\n",
    "cv2.rectangle(img, (0,0),(500,500), (55,55,100), cv2.FILLED)\n",
    "# 圓心 半徑 顏色 粗度\n",
    "cv2.circle(img, (350,350), 30, (255,60,255),20)\n",
    "# 文字 左下角的點 起始位子 字體 文字大小 顏色 粗度\n",
    "cv2.putText(img, \"hi\",(0,600), cv2.FONT_HERSHEY_DUPLEX, 5,(255,255,255),2)\n",
    "\n",
    "cv2.imshow(\"the backgroung\",img)\n",
    "\n",
    "cv2.waitKey(0)\n",
    "cv2.destroyAllWindows()\n",
    "\n"
   ]
  },
  {
   "cell_type": "markdown",
   "metadata": {},
   "source": [
    "## 6.偵測顏色"
   ]
  },
  {
   "cell_type": "code",
   "execution_count": 3,
   "metadata": {},
   "outputs": [],
   "source": [
    "import cv2\n",
    "\n",
    "img = cv2.imread(\"winnie.jpg\")\n",
    "\n",
    "hsv = cv2.cvtColor(img, cv2.COLOR_BGR2HSV)\n",
    "\n",
    "cv2.imshow(\"origin_pic\",img)\n",
    "cv2.imshow(\"hsv\",hsv)\n",
    "cv2.waitKey(0)\n",
    "cv2.destroyAllWindows()\n"
   ]
  },
  {
   "cell_type": "markdown",
   "metadata": {},
   "source": [
    "## 7.輪廓檢測\n",
    "找出形狀的外框，與前面的邊緣不一樣  \n",
    "用輪廓的點去判別形狀(多邊形近似輪廓)\n",
    "- find contour: 找輪廓\n",
    "- draw contour: 畫輪廓\n",
    "- contourArea:算出輪廓面積\n",
    "- arcLength:算出邊長\n",
    "- approxPolyDP:近似輪廓\n",
    "- boundingRect: 依據頂點之位子，偵測出(x,y,w,h)  (依據此fuction畫出rectangle(形狀偵測之邊框))"
   ]
  },
  {
   "cell_type": "code",
   "execution_count": 1,
   "metadata": {},
   "outputs": [
    {
     "name": "stdout",
     "output_type": "stream",
     "text": [
      "輪廓之面積 :10692.0\n",
      "輪廓之邊長 :418.66608238220215\n",
      "形狀之頂點4\n",
      "=========================\n",
      "輪廓之面積 :12214.0\n",
      "輪廓之邊長 :413.3036036491394\n",
      "形狀之頂點8\n",
      "=========================\n",
      "輪廓之面積 :5917.0\n",
      "輪廓之邊長 :364.534051656723\n",
      "形狀之頂點3\n",
      "=========================\n",
      "輪廓之面積 :0.0\n",
      "輪廓之邊長 :0.0\n",
      "形狀之頂點1\n",
      "=========================\n",
      "輪廓之面積 :15741.0\n",
      "輪廓之邊長 :498.48528122901917\n",
      "形狀之頂點4\n",
      "=========================\n",
      "輪廓之面積 :11469.5\n",
      "輪廓之邊長 :509.20309841632843\n",
      "形狀之頂點3\n",
      "=========================\n",
      "輪廓之面積 :8280.0\n",
      "輪廓之邊長 :445.0193328857422\n",
      "形狀之頂點3\n",
      "=========================\n",
      "輪廓之面積 :12874.0\n",
      "輪廓之邊長 :449.3137083053589\n",
      "形狀之頂點4\n",
      "=========================\n",
      "輪廓之面積 :12143.0\n",
      "輪廓之邊長 :414.96045780181885\n",
      "形狀之頂點8\n",
      "=========================\n",
      "輪廓之面積 :14517.0\n",
      "輪廓之邊長 :481.9310202598572\n",
      "形狀之頂點5\n",
      "=========================\n"
     ]
    }
   ],
   "source": [
    "import cv2\n",
    "\n",
    "\n",
    "img = cv2.imread(\"shape.jpg\")\n",
    "# 複製一張原圖\n",
    "img_contour = img.copy()\n",
    "img = cv2.cvtColor(img, cv2.COLOR_BGR2GRAY)\n",
    "# 先利用檢測邊緣 後使用邊緣去檢測輪廓\n",
    "canny = cv2.Canny(img, 150, 200)\n",
    "# 找輪廓 參數:圖片/ (使用的模式)選定的是外部輪廓 / 使用的近似方法(壓縮水平的輪廓點。或垂直的擴點，保留每一個(不做壓縮))\n",
    "# 回傳直 我的輪廓 ，階層\n",
    "contourse, hierachy = cv2.findContours(canny, cv2.RETR_EXTERNAL, cv2.CHAIN_APPROX_NONE)\n",
    "\n",
    "for count in contourse: \n",
    "    #                要畫在甚麼圖上 , 要畫的輪擴 , 指定哪一個輪廓(-1為全部), 輪廓顏色 , 輪廓粗細\n",
    "    cv2.drawContours(img_contour, count, -1, (255,0,0),3)\n",
    "    # 取得輪廓之面積\n",
    "    print(f\"輪廓之面積 :{cv2.contourArea(count)}\")\n",
    "    area = cv2.contourArea(count)\n",
    "    # 取得輪廓之邊長                       輪廓是否為閉合\n",
    "    print(f\"輪廓之邊長 :{cv2.arcLength(count, True)}\")\n",
    "    peri= cv2.arcLength(count, True)\n",
    "    #  多邊形的頂點回傳              z要近似的輪廓  ，近似值 越高代表 , \n",
    "    vertices = cv2.approxPolyDP(count, peri*0.02, True)\n",
    "    print(f\"形狀之頂點{len(vertices)}\")\n",
    "    print(\"=========================\")\n",
    "    if area > 500:\n",
    "        x,y,w,h = cv2.boundingRect(vertices)\n",
    "        cv2.rectangle(img_contour,(x,y),(x+w , y+h), (0,255,0), 3 )\n",
    "        if len(vertices)==4:\n",
    "            cv2.putText(img_contour, \"square\",(x,y-5), cv2.FONT_HERSHEY_DUPLEX, 1,(0,0,255),2)\n",
    "        elif len(vertices)==3:\n",
    "            cv2.putText(img_contour, \"triangle\",(x,y-5), cv2.FONT_HERSHEY_DUPLEX, 1,(0,0,255),2)\n",
    "        elif len(vertices)==5:\n",
    "            cv2.putText(img_contour, \"pentagon\",(x,y-5), cv2.FONT_HERSHEY_DUPLEX, 1,(0,0,255),2)\n",
    "        elif len(vertices) >= 6:\n",
    "            cv2.putText(img_contour, \"circle\",(x,y-5), cv2.FONT_HERSHEY_DUPLEX, 1,(0,0,255),2)\n",
    "\n",
    "cv2.imshow(\"image\",img)\n",
    "cv2.imshow(\"canny image\",canny)\n",
    "cv2.imshow(\"圖片之輪廓\",img_contour)\n",
    "cv2.waitKey(0)\n",
    "cv2.destroyAllWindows()"
   ]
  },
  {
   "cell_type": "code",
   "execution_count": null,
   "metadata": {},
   "outputs": [],
   "source": []
  }
 ],
 "metadata": {
  "kernelspec": {
   "display_name": "image_rec_py3_11",
   "language": "python",
   "name": "python3"
  },
  "language_info": {
   "codemirror_mode": {
    "name": "ipython",
    "version": 3
   },
   "file_extension": ".py",
   "mimetype": "text/x-python",
   "name": "python",
   "nbconvert_exporter": "python",
   "pygments_lexer": "ipython3",
   "version": "3.11.9"
  }
 },
 "nbformat": 4,
 "nbformat_minor": 2
}
