{
 "cells": [
  {
   "cell_type": "markdown",
   "metadata": {},
   "source": [
    "# 人臉識別\n",
    "當信心率>60時 認得出人但常常認錯人  \n",
    "當設定準確率>85時 認不出 我本人id=4，但有時候會把艾莉莎莎認成id=4   \n",
    "結論: 提高訓練集的圖片訓練集，以提高模型對於人臉的敏感度。"
   ]
  },
  {
   "cell_type": "code",
   "execution_count": 23,
   "metadata": {},
   "outputs": [],
   "source": [
    "import cv2\n",
    "recognizer = cv2.face.LBPHFaceRecognizer_create()         # 啟用訓練人臉模型方法\n",
    "recognizer.read('face.yml')                               # 讀取人臉模型檔\n",
    "cascade_path = \"detect_frontface.xml\"                     # 載入人臉追蹤模型\n",
    "face_cascade = cv2.CascadeClassifier(cascade_path)        # 啟用人臉追蹤\n",
    "\n",
    "#建立姓名ID對照之人臉\n",
    "name = {\n",
    "    \"1\":\"joeman\",\n",
    "    \"2\":\"lovesand\",\n",
    "    \"3\":\"hook\",\n",
    "    \"4\":\"wilson\",\n",
    "}\n",
    "# 啟動鏡頭\n",
    "cap = cv2.VideoCapture(0)\n",
    "screenshot_count = 0\n",
    "\n",
    "while True:\n",
    "    ret, frame = cap.read()\n",
    "    frame = cv2.resize(frame, (0, 0), fx=0.6, fy=0.6)\n",
    "    if ret:\n",
    "        # 轉灰階\n",
    "        gray = cv2.cvtColor(frame, cv2.COLOR_BGR2GRAY) \n",
    "        # 識別人臉\n",
    "        faces = face_cascade.detectMultiScale(gray)\n",
    "    \n",
    "    for(x,y,w,h) in faces:\n",
    "        cv2.rectangle(frame,(x,y),(x+w,y+h),(0,255,0),2)            # 標記人臉外框\n",
    "        idnum,confidence = recognizer.predict(gray[y:y+h,x:x+w])  # 取出 id 號碼以及信心指數 confidence\n",
    "        if confidence > 85:\n",
    "            text = name[str(idnum)]                               # 如果信心指數小於 60，取得對應的名字\n",
    "        else:\n",
    "            text = '???'                                          # 不然名字就是 ???\n",
    "        # 在人臉外框旁加上名字\n",
    "        cv2.putText(frame, text, (x,y-5),cv2.FONT_HERSHEY_SIMPLEX, 1, (0,255,0), 2, cv2.LINE_AA)\n",
    "\n",
    "    cv2.imshow('identify_peoples_face', frame)\n",
    "\n",
    "    key = cv2.waitKey(5)\n",
    "    if key == ord(\"s\"):\n",
    "        # Increment the screenshot count\n",
    "        screenshot_count += 1\n",
    "        # Save the current frame as an image\n",
    "        cv2.imwrite(f\"screenshot(confidence_greater_than_85)_{screenshot_count}.jpg\", frame)\n",
    "        print(f\"Screenshot saved as screenshot_{screenshot_count}.jpg\")\n",
    "\n",
    "    if cv2.waitKey(5) == ord('q'):\n",
    "        break    # 按下 q 鍵停止\n",
    "cap.release()\n",
    "cv2.destroyAllWindows()\n",
    "\n",
    "       \n"
   ]
  },
  {
   "cell_type": "code",
   "execution_count": null,
   "metadata": {},
   "outputs": [],
   "source": []
  }
 ],
 "metadata": {
  "kernelspec": {
   "display_name": "image_rec_py3_11",
   "language": "python",
   "name": "python3"
  },
  "language_info": {
   "codemirror_mode": {
    "name": "ipython",
    "version": 3
   },
   "file_extension": ".py",
   "mimetype": "text/x-python",
   "name": "python",
   "nbconvert_exporter": "python",
   "pygments_lexer": "ipython3",
   "version": "3.11.9"
  }
 },
 "nbformat": 4,
 "nbformat_minor": 2
}
