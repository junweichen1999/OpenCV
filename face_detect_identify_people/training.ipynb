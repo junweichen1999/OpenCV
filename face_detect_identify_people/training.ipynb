{
 "cells": [
  {
   "cell_type": "code",
   "execution_count": null,
   "metadata": {},
   "outputs": [],
   "source": []
  },
  {
   "cell_type": "code",
   "execution_count": 1,
   "metadata": {},
   "outputs": [
    {
     "ename": "error",
     "evalue": "OpenCV(4.9.0) D:\\a\\opencv-python\\opencv-python\\opencv\\modules\\imgproc\\src\\color.cpp:196: error: (-215:Assertion failed) !_src.empty() in function 'cv::cvtColor'\n",
     "output_type": "error",
     "traceback": [
      "\u001b[1;31m---------------------------------------------------------------------------\u001b[0m",
      "\u001b[1;31merror\u001b[0m                                     Traceback (most recent call last)",
      "Cell \u001b[1;32mIn[1], line 19\u001b[0m\n\u001b[0;32m     17\u001b[0m \u001b[38;5;28;01mfor\u001b[39;00m i \u001b[38;5;129;01min\u001b[39;00m \u001b[38;5;28mrange\u001b[39m(\u001b[38;5;241m1\u001b[39m,\u001b[38;5;241m32\u001b[39m):\n\u001b[0;32m     18\u001b[0m     img \u001b[38;5;241m=\u001b[39m cv2\u001b[38;5;241m.\u001b[39mimread(\u001b[38;5;124mf\u001b[39m\u001b[38;5;124m'\u001b[39m\u001b[38;5;124mC:/Users/Wilson/Desktop/image_rec/face_detect_identify_people/face02/\u001b[39m\u001b[38;5;132;01m{\u001b[39;00mi\u001b[38;5;132;01m}\u001b[39;00m\u001b[38;5;124m.jpg\u001b[39m\u001b[38;5;124m'\u001b[39m)           \u001b[38;5;66;03m# 依序開啟每一張川普的照片\u001b[39;00m\n\u001b[1;32m---> 19\u001b[0m     gray \u001b[38;5;241m=\u001b[39m \u001b[43mcv2\u001b[49m\u001b[38;5;241;43m.\u001b[39;49m\u001b[43mcvtColor\u001b[49m\u001b[43m(\u001b[49m\u001b[43mimg\u001b[49m\u001b[43m,\u001b[49m\u001b[43m \u001b[49m\u001b[43mcv2\u001b[49m\u001b[38;5;241;43m.\u001b[39;49m\u001b[43mCOLOR_BGR2GRAY\u001b[49m\u001b[43m)\u001b[49m  \u001b[38;5;66;03m# 色彩轉換成黑白\u001b[39;00m\n\u001b[0;32m     20\u001b[0m     img_np \u001b[38;5;241m=\u001b[39m np\u001b[38;5;241m.\u001b[39marray(gray,\u001b[38;5;124m'\u001b[39m\u001b[38;5;124muint8\u001b[39m\u001b[38;5;124m'\u001b[39m)               \u001b[38;5;66;03m# 轉換成指定編碼的 numpy 陣列\u001b[39;00m\n\u001b[0;32m     21\u001b[0m     face \u001b[38;5;241m=\u001b[39m detector\u001b[38;5;241m.\u001b[39mdetectMultiScale(gray)        \u001b[38;5;66;03m# 擷取人臉區域\u001b[39;00m\n",
      "\u001b[1;31merror\u001b[0m: OpenCV(4.9.0) D:\\a\\opencv-python\\opencv-python\\opencv\\modules\\imgproc\\src\\color.cpp:196: error: (-215:Assertion failed) !_src.empty() in function 'cv::cvtColor'\n"
     ]
    }
   ],
   "source": [
    "import cv2\n",
    "import numpy as np\n",
    "detector = cv2.CascadeClassifier('detect_frontface.xml')  # 載入人臉追蹤模型\n",
    "recog = cv2.face.LBPHFaceRecognizer_create()      # 啟用訓練人臉模型方法\n",
    "faces = []   # 儲存人臉位置大小的串列\n",
    "ids = []     # 記錄該人臉 id 的串列\n",
    "\n",
    "for i in range(1,31):\n",
    "    img = cv2.imread(f'C:/Users/Wilson/Desktop/image_rec/face_detect_identify_people/face01/{i}.jpg')           # 依序開啟每一張蔡英文的照片\n",
    "    gray = cv2.cvtColor(img, cv2.COLOR_BGR2GRAY)  # 色彩轉換成黑白\n",
    "    img_np = np.array(gray,'uint8')               # 轉換成指定編碼的 numpy 陣列\n",
    "    face = detector.detectMultiScale(gray)        # 擷取人臉區域\n",
    "    for(x,y,w,h) in face:\n",
    "        faces.append(img_np[y:y+h,x:x+w])         # 記錄蔡英文人臉的位置和大小內像素的數值\n",
    "        ids.append(1)                             # 記錄蔡英文人臉對應的 id，只能是整數，都是 1 表示蔡英文的 id 為 1\n",
    "\n",
    "for i in range(1,32):\n",
    "    img = cv2.imread(f'C:/Users/Wilson/Desktop/image_rec/face_detect_identify_people/face02/{i}.jpg')           # 依序開啟每一張川普的照片\n",
    "    gray = cv2.cvtColor(img, cv2.COLOR_BGR2GRAY)  # 色彩轉換成黑白\n",
    "    img_np = np.array(gray,'uint8')               # 轉換成指定編碼的 numpy 陣列\n",
    "    face = detector.detectMultiScale(gray)        # 擷取人臉區域\n",
    "    for(x,y,w,h) in face:\n",
    "        faces.append(img_np[y:y+h,x:x+w])         # 記錄川普人臉的位置和大小內像素的數值\n",
    "        ids.append(2)                             # 記錄川普人臉對應的 id，只能是整數，都是 2 表示川普的 id 為 2\n",
    "\n",
    "for i in range(1,32):\n",
    "    img = cv2.imread(f'C:/Users/Wilson/Desktop/image_rec/face_detect_identify_people/face03/{i}.jpg')           # 依序開啟每一張川普的照片\n",
    "    gray = cv2.cvtColor(img, cv2.COLOR_BGR2GRAY)  # 色彩轉換成黑白\n",
    "    img_np = np.array(gray,'uint8')               # 轉換成指定編碼的 numpy 陣列\n",
    "    face = detector.detectMultiScale(gray)        # 擷取人臉區域\n",
    "    for(x,y,w,h) in face:\n",
    "        faces.append(img_np[y:y+h,x:x+w])         # 記錄川普人臉的位置和大小內像素的數值\n",
    "        ids.append(3)                             # 記錄川普人臉對應的 id，只能是整數，都是 2 表示川普的 id 為 2\n",
    "\n",
    "for i in range(1,31):\n",
    "    img = cv2.imread(f'C:/Users/Wilson/Desktop/image_rec/face_detect_identify_people/face04/{i}.jpg')           # 依序開啟每一張川普的照片\n",
    "    gray = cv2.cvtColor(img, cv2.COLOR_BGR2GRAY)  # 色彩轉換成黑白\n",
    "    img_np = np.array(gray,'uint8')               # 轉換成指定編碼的 numpy 陣列\n",
    "    face = detector.detectMultiScale(gray)        # 擷取人臉區域\n",
    "    for(x,y,w,h) in face:\n",
    "        faces.append(img_np[y:y+h,x:x+w])         # 記錄川普人臉的位置和大小內像素的數值\n",
    "        ids.append(4)                             # 記錄川普人臉對應的 id，只能是整數，都是 2 表示川普的 id 為 2\n",
    "\n",
    "print('training...')                              # 提示開始訓練\n",
    "recog.train(faces,np.array(ids))                  # 開始訓練\n",
    "recog.save('face.yml')                            # 訓練完成儲存為 face.yml\n",
    "print('ok!')"
   ]
  },
  {
   "cell_type": "code",
   "execution_count": 5,
   "metadata": {},
   "outputs": [
    {
     "name": "stdout",
     "output_type": "stream",
     "text": [
      "訓練中...\n",
      "訓練完成！\n"
     ]
    }
   ],
   "source": [
    "import cv2\n",
    "import numpy as np\n",
    "\n",
    "detector = cv2.CascadeClassifier('detect_frontface.xml')  # 載入人臉追蹤模型\n",
    "recog = cv2.face.LBPHFaceRecognizer_create()      # 啟用訓練人臉模型方法\n",
    "faces = []   # 儲存人臉位置大小的串列\n",
    "ids = []     # 記錄該人臉 id 的串列\n",
    "\n",
    "def read_image(path):\n",
    "    img = cv2.imread(path)\n",
    "    if img is None:\n",
    "        raise FileNotFoundError(f\"無法讀取影像檔案：{path}\")\n",
    "    return img\n",
    "\n",
    "try:\n",
    "    for i in range(1, 31):\n",
    "        img = read_image(f'./face01/{i}.jpg')          #訓練joman\n",
    "        gray = cv2.cvtColor(img, cv2.COLOR_BGR2GRAY)\n",
    "        img_np = np.array(gray, 'uint8')\n",
    "        face = detector.detectMultiScale(gray)\n",
    "        for (x, y, w, h) in face:\n",
    "            faces.append(img_np[y:y + h, x:x + w])\n",
    "            ids.append(1)\n",
    "\n",
    "    for i in range(1,32):\n",
    "        img = cv2.imread(f'./face02/{i}.jpg')         # 訓練艾利沙沙\n",
    "        gray = cv2.cvtColor(img, cv2.COLOR_BGR2GRAY)  # \n",
    "        img_np = np.array(gray,'uint8')               # \n",
    "        face = detector.detectMultiScale(gray)        # \n",
    "        for(x,y,w,h) in face:\n",
    "            faces.append(img_np[y:y+h,x:x+w])         \n",
    "            ids.append(2)    \n",
    "\n",
    "\n",
    "    for i in range(1,32):\n",
    "        img = cv2.imread(f'./face03/{i}.jpg')           # 訓練hook的臉\n",
    "        gray = cv2.cvtColor(img, cv2.COLOR_BGR2GRAY)  \n",
    "        img_np = np.array(gray,'uint8')               \n",
    "        face = detector.detectMultiScale(gray)        \n",
    "        for(x,y,w,h) in face:\n",
    "            faces.append(img_np[y:y+h,x:x+w])         \n",
    "            ids.append(3)                            \n",
    "\n",
    "    for i in range(1,31):                               # 訓練自己的臉部\n",
    "        img = cv2.imread(f'./face04/{i}.jpg')           \n",
    "        gray = cv2.cvtColor(img, cv2.COLOR_BGR2GRAY)  \n",
    "        img_np = np.array(gray,'uint8')               \n",
    "        face = detector.detectMultiScale(gray)        \n",
    "        for(x,y,w,h) in face:\n",
    "            faces.append(img_np[y:y+h,x:x+w])         \n",
    "            ids.append(4)                             \n",
    "\n",
    "    # Repeat the process for other directories and IDs...\n",
    "\n",
    "    print('訓練中...')\n",
    "    recog.train(faces, np.array(ids))\n",
    "    recog.save('face.yml')\n",
    "    print('訓練完成！')\n",
    "except Exception as e:\n",
    "    print(f\"發生錯誤：{e}\")\n"
   ]
  }
 ],
 "metadata": {
  "kernelspec": {
   "display_name": "image_rec_py3_11",
   "language": "python",
   "name": "python3"
  },
  "language_info": {
   "codemirror_mode": {
    "name": "ipython",
    "version": 3
   },
   "file_extension": ".py",
   "mimetype": "text/x-python",
   "name": "python",
   "nbconvert_exporter": "python",
   "pygments_lexer": "ipython3",
   "version": "3.11.9"
  }
 },
 "nbformat": 4,
 "nbformat_minor": 2
}
