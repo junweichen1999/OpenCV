{
 "cells": [
  {
   "cell_type": "markdown",
   "metadata": {},
   "source": [
    "# 模型訓練\n",
    "## 步驟\n",
    "- 讀取圖片\n",
    "- 轉灰階\n",
    "- 把圖片變成numpy array\n",
    "- 用模型(偵測)框出臉部\n",
    "- 記錄下來依序append 每個人臉記錄成id1、2、3、4"
   ]
  },
  {
   "cell_type": "code",
   "execution_count": 10,
   "metadata": {},
   "outputs": [
    {
     "name": "stdout",
     "output_type": "stream",
     "text": [
      "訓練中...\n",
      "訓練完成！\n"
     ]
    }
   ],
   "source": [
    "import cv2\n",
    "import numpy as np\n",
    "\n",
    "detector = cv2.CascadeClassifier('detect_frontface.xml')  # 載入人臉追蹤模型\n",
    "recog = cv2.face.LBPHFaceRecognizer_create()      # 啟用訓練人臉模型方法\n",
    "faces = []   # 儲存人臉位置大小的串列\n",
    "ids = []     # 記錄該人臉 id 的串列\n",
    "\n",
    "def read_image(path):\n",
    "    img = cv2.imread(path)\n",
    "    if img is None:\n",
    "        raise FileNotFoundError(f\"無法讀取影像檔案：{path}\")\n",
    "    return img\n",
    "\n",
    "try:\n",
    "    for i in range(1, 31):\n",
    "        img = read_image(f'./face01/{i}.jpg')          #訓練joman\n",
    "        gray = cv2.cvtColor(img, cv2.COLOR_BGR2GRAY)\n",
    "        img_np = np.array(gray, 'uint8')\n",
    "        face = detector.detectMultiScale(gray)\n",
    "        for (x, y, w, h) in face:\n",
    "            faces.append(img_np[y:y + h, x:x + w])\n",
    "            ids.append(1)\n",
    "\n",
    "    for i in range(1,32):\n",
    "        img = cv2.imread(f'./face02/{i}.jpg')         # 訓練艾利沙沙 (圖片應該有損毀)\n",
    "        gray = cv2.cvtColor(img, cv2.COLOR_BGR2GRAY)  # \n",
    "        img_np = np.array(gray,'uint8')               # \n",
    "        face = detector.detectMultiScale(gray)        # \n",
    "        for(x,y,w,h) in face:\n",
    "            faces.append(img_np[y:y+h,x:x+w])         \n",
    "            ids.append(2)    \n",
    "\n",
    "\n",
    "    for i in range(1,32):\n",
    "        img = cv2.imread(f'./face03/{i}.jpg')           # 訓練hook的臉\n",
    "        gray = cv2.cvtColor(img, cv2.COLOR_BGR2GRAY)  \n",
    "        img_np = np.array(gray,'uint8')               \n",
    "        face = detector.detectMultiScale(gray)        \n",
    "        for(x,y,w,h) in face:\n",
    "            faces.append(img_np[y:y+h,x:x+w])         \n",
    "            ids.append(3)                            \n",
    "\n",
    "    for i in range(1,31):                               # 訓練自己的臉部\n",
    "        img = cv2.imread(f'./face04/{i}.jpg')           \n",
    "        gray = cv2.cvtColor(img, cv2.COLOR_BGR2GRAY)  \n",
    "        img_np = np.array(gray,'uint8')               \n",
    "        face = detector.detectMultiScale(gray)        \n",
    "        for(x,y,w,h) in face:\n",
    "            faces.append(img_np[y:y+h,x:x+w])         \n",
    "            ids.append(4)                             \n",
    "\n",
    "    # Repeat the process for other directories and IDs...\n",
    "\n",
    "    print('訓練中...')\n",
    "    recog.train(faces, np.array(ids))\n",
    "    recog.save('face.yml')\n",
    "    print('訓練完成！')\n",
    "except Exception as e:\n",
    "    print(f\"發生錯誤：{e}\")\n"
   ]
  }
 ],
 "metadata": {
  "kernelspec": {
   "display_name": "image_rec_py3_11",
   "language": "python",
   "name": "python3"
  },
  "language_info": {
   "codemirror_mode": {
    "name": "ipython",
    "version": 3
   },
   "file_extension": ".py",
   "mimetype": "text/x-python",
   "name": "python",
   "nbconvert_exporter": "python",
   "pygments_lexer": "ipython3",
   "version": "3.11.9"
  }
 },
 "nbformat": 4,
 "nbformat_minor": 2
}
