{
 "cells": [
  {
   "cell_type": "markdown",
   "metadata": {},
   "source": [
    "## 臉部識別\n",
    "#### 流程\n",
    "轉灰階>選定模型>套模>偵測>出圖(迴圈)"
   ]
  },
  {
   "cell_type": "code",
   "execution_count": 1,
   "metadata": {},
   "outputs": [
    {
     "name": "stdout",
     "output_type": "stream",
     "text": [
      "1\n"
     ]
    }
   ],
   "source": [
    "import cv2\n",
    "\n",
    "img = cv2.imread(\"testing_president_pic.png\")\n",
    "img = cv2.resize(img, (0,0), fx=0.5,fy=0.5)\n",
    "bedraw_img = img.copy()\n",
    "gray = cv2.cvtColor(img, cv2.COLOR_BGR2GRAY)\n",
    "faceCascade = cv2.CascadeClassifier(\"face_detect.xml\")\n",
    "#  回傳是一個框框             要偵測的片  ,  縮小的倍數(越小縮小的動作越慢), 偵測到幾次此臉才會被算完臉(越嚴謹)不依定會被偵測到\n",
    "face_rect = faceCascade.detectMultiScale(gray, 1.1, 3 )\n",
    "print(len(face_rect))\n",
    "\n",
    "\n",
    "for (x, y, w, h) in face_rect:\n",
    "    cv2.rectangle(bedraw_img, (x,y), (x+w,y+h),(0,0,255),2 )\n",
    "\n",
    "\n",
    "cv2.imshow(\"tesing for president\",img)\n",
    "cv2.imshow(\"where is presedent's face\", bedraw_img)\n",
    "cv2.imwrite(\"bedraw_img.jpg\", bedraw_img, [cv2.IMWRITE_JPEG_QUALITY, 98])\n",
    "cv2.waitKey(0)\n",
    "cv2.destroyAllWindows()"
   ]
  },
  {
   "cell_type": "markdown",
   "metadata": {},
   "source": [
    "### 測試多個臉部"
   ]
  },
  {
   "cell_type": "code",
   "execution_count": 20,
   "metadata": {},
   "outputs": [
    {
     "name": "stdout",
     "output_type": "stream",
     "text": [
      "3\n"
     ]
    }
   ],
   "source": [
    "import cv2\n",
    "\n",
    "\n",
    "\n",
    "img = cv2.imread(\"test02.jpg\")\n",
    "#img = cv2.resize(img)\n",
    "\n",
    "\n",
    "bedraw_img = img.copy()\n",
    "gray = cv2.cvtColor(img, cv2.COLOR_BGR2GRAY)\n",
    "faceCascade = cv2.CascadeClassifier(\"face_detect.xml\")\n",
    "#  回傳是一個框框             要偵測的圖片  ,  縮小的倍數(越小縮小的動作越慢), 偵測到幾次此臉才會被算完臉(越嚴謹)不依定會被偵測到\n",
    "face_rect = faceCascade.detectMultiScale(gray, 1.1, 10 )\n",
    "print(len(face_rect))\n",
    "\n",
    "for (x, y, w, h) in face_rect:\n",
    "    cv2.putText(bedraw_img, \"human\",(x+10,y-5), cv2.FONT_HERSHEY_DUPLEX, 1, (0,0,255), 1)\n",
    "    cv2.rectangle(bedraw_img, (x,y), (x+w,y+h),(0,0,255),4 )\n",
    "\n",
    "\n",
    "img_result = cv2.resize(bedraw_img, (0,0), fx=0.3, fy=0.3)\n",
    "\n",
    "cv2.imshow(\"tesing for presixdent\",img)\n",
    "cv2.imshow(\"testing for how many face in wierd picture\", img_result)\n",
    "cv2.imwrite(\"bedraw_img_02.jpg\", bedraw_img, [cv2.IMWRITE_JPEG_QUALITY, 98])\n",
    "cv2.waitKey(0)\n",
    "cv2.destroyAllWindows()"
   ]
  }
 ],
 "metadata": {
  "kernelspec": {
   "display_name": "image_rec_py3_11",
   "language": "python",
   "name": "python3"
  },
  "language_info": {
   "codemirror_mode": {
    "name": "ipython",
    "version": 3
   },
   "file_extension": ".py",
   "mimetype": "text/x-python",
   "name": "python",
   "nbconvert_exporter": "python",
   "pygments_lexer": "ipython3",
   "version": "3.11.9"
  }
 },
 "nbformat": 4,
 "nbformat_minor": 2
}
