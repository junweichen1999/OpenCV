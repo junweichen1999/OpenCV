{
 "cells": [
  {
   "cell_type": "markdown",
   "metadata": {},
   "source": [
    "## 臉部識別\n",
    "#### 流程\n",
    "轉灰階>選定模型>套模>偵測>出圖(迴圈)\n",
    "- 捕捉人臉\n",
    "- 捕捉多個人臉(練習調整超參數)\n",
    "- (鏡頭)即時捕捉人臉"
   ]
  },
  {
   "cell_type": "code",
   "execution_count": 1,
   "metadata": {},
   "outputs": [
    {
     "name": "stdout",
     "output_type": "stream",
     "text": [
      "1\n"
     ]
    }
   ],
   "source": [
    "import cv2\n",
    "\n",
    "img = cv2.imread(\"testing_president_pic.png\")\n",
    "img = cv2.resize(img, (0,0), fx=0.5,fy=0.5)\n",
    "bedraw_img = img.copy()\n",
    "gray = cv2.cvtColor(img, cv2.COLOR_BGR2GRAY)\n",
    "faceCascade = cv2.CascadeClassifier(\"face_detect.xml\")\n",
    "#  回傳是一個框框             要偵測的片  ,  縮小的倍數(越小縮小的動作越慢), 偵測到幾次此臉才會被算完臉(越嚴謹)不依定會被偵測到\n",
    "face_rect = faceCascade.detectMultiScale(gray, 1.1, 3 )\n",
    "print(len(face_rect))\n",
    "\n",
    "\n",
    "for (x, y, w, h) in face_rect:\n",
    "    cv2.rectangle(bedraw_img, (x,y), (x+w,y+h),(0,0,255),2 )\n",
    "\n",
    "\n",
    "cv2.imshow(\"tesing for president\",img)\n",
    "cv2.imshow(\"where is presedent's face\", bedraw_img)\n",
    "cv2.imwrite(\"bedraw_img.jpg\", bedraw_img, [cv2.IMWRITE_JPEG_QUALITY, 98])\n",
    "cv2.waitKey(0)\n",
    "cv2.destroyAllWindows()"
   ]
  },
  {
   "cell_type": "markdown",
   "metadata": {},
   "source": [
    "### 測試多個臉部"
   ]
  },
  {
   "cell_type": "code",
   "execution_count": 20,
   "metadata": {},
   "outputs": [
    {
     "name": "stdout",
     "output_type": "stream",
     "text": [
      "3\n"
     ]
    }
   ],
   "source": [
    "import cv2\n",
    "\n",
    "\n",
    "\n",
    "img = cv2.imread(\"test02.jpg\")\n",
    "#img = cv2.resize(img)\n",
    "\n",
    "\n",
    "bedraw_img = img.copy()\n",
    "gray = cv2.cvtColor(img, cv2.COLOR_BGR2GRAY)\n",
    "faceCascade = cv2.CascadeClassifier(\"face_detect.xml\")\n",
    "#  回傳是一個框框             要偵測的圖片  ,  縮小的倍數(越小縮小的動作越慢), 偵測到幾次此臉才會被算完臉(越嚴謹)不依定會被偵測到\n",
    "face_rect = faceCascade.detectMultiScale(gray, 1.1, 10 )\n",
    "print(len(face_rect))\n",
    "\n",
    "for (x, y, w, h) in face_rect:\n",
    "    cv2.putText(bedraw_img, \"human\",(x+10,y-5), cv2.FONT_HERSHEY_DUPLEX, 1, (0,0,255), 1)\n",
    "    cv2.rectangle(bedraw_img, (x,y), (x+w,y+h),(0,0,255),4 )\n",
    "\n",
    "\n",
    "img_result = cv2.resize(bedraw_img, (0,0), fx=0.3, fy=0.3)\n",
    "\n",
    "cv2.imshow(\"tesing for presixdent\",img)\n",
    "cv2.imshow(\"testing for how many face in wierd picture\", img_result)\n",
    "cv2.imwrite(\"bedraw_img_02.jpg\", bedraw_img, [cv2.IMWRITE_JPEG_QUALITY, 98])\n",
    "cv2.waitKey(0)\n",
    "cv2.destroyAllWindows()"
   ]
  },
  {
   "cell_type": "markdown",
   "metadata": {},
   "source": [
    "### 動態捕捉人臉"
   ]
  },
  {
   "cell_type": "code",
   "execution_count": 5,
   "metadata": {},
   "outputs": [
    {
     "name": "stdout",
     "output_type": "stream",
     "text": [
      "Screenshot saved as screenshot_1.jpg\n",
      "Screenshot saved as screenshot_2.jpg\n",
      "Screenshot saved as screenshot_3.jpg\n"
     ]
    }
   ],
   "source": [
    "import cv2\n",
    "\n",
    "# 取得影片之路徑 \n",
    "# cap = cv2.VideoCapture(\"video_test01.mp4\")\n",
    "# 取得視訊鏡頭的畫面\n",
    "cap = cv2.VideoCapture(0)\n",
    "screenshot_count = 0\n",
    "\n",
    "while True:\n",
    "    ret, frame = cap.read()\n",
    "    frame = cv2.resize(frame, (0, 0), fx=1.2, fy=1.2)\n",
    "\n",
    "    if ret:\n",
    "        # 轉灰階\n",
    "        gray = cv2.cvtColor(frame, cv2.COLOR_BGR2GRAY)\n",
    "        # 選定模型\n",
    "        faceCascade = cv2.CascadeClassifier(\"face_detect.xml\")\n",
    "        # 用輝居的套模 (勾勒出輪廓回傳位子)\n",
    "        face_rect = faceCascade.detectMultiScale(gray, 1.1, 8)\n",
    "        count_how_many_people = len(face_rect)\n",
    "        for i, (x, y, w, h) in enumerate(face_rect, 1):\n",
    "        # 套用在原圖之上\n",
    "            cv2.putText(frame, f\"Person {i}\", (x + 10, y - 5), cv2.FONT_HERSHEY_DUPLEX, 1, (0, 0, 255), 1)\n",
    "            cv2.rectangle(frame, (x, y), (x + w, y + h), (0, 0, 255), 4)\n",
    "        # 顯示人數\n",
    "        cv2.putText(frame, f\"Total People: {count_how_many_people}\", (20, 40), cv2.FONT_HERSHEY_DUPLEX, 1, (0, 255, 0), 2)\n",
    "        \n",
    "        cv2.imshow(\"video\", frame)\n",
    "        # 螢幕截圖\n",
    "        key = cv2.waitKey(10)\n",
    "        if key == ord(\"s\"):\n",
    "            # Increment the screenshot count\n",
    "            screenshot_count += 1\n",
    "            # Save the current frame as an image\n",
    "            cv2.imwrite(f\"screenshot_{screenshot_count}.jpg\", frame)\n",
    "            print(f\"Screenshot saved as screenshot_{screenshot_count}.jpg\")\n",
    "    else:\n",
    "        break\n",
    "    # 每取得1針 會等待100毫秒 如果監聽到q按下去(跳出迴圈)waitKey等待鍵盤某個鍵被按下去\n",
    "    if cv2.waitKey(10) == ord(\"q\"):\n",
    "        cv2.destroyAllWindows()\n",
    "        break\n",
    "\n",
    "# 釋放攝像頭資源\n",
    "cap.release()\n",
    "cv2.destroyAllWindows()\n"
   ]
  }
 ],
 "metadata": {
  "kernelspec": {
   "display_name": "image_rec_py3_11",
   "language": "python",
   "name": "python3"
  },
  "language_info": {
   "codemirror_mode": {
    "name": "ipython",
    "version": 3
   },
   "file_extension": ".py",
   "mimetype": "text/x-python",
   "name": "python",
   "nbconvert_exporter": "python",
   "pygments_lexer": "ipython3",
   "version": "3.11.9"
  }
 },
 "nbformat": 4,
 "nbformat_minor": 2
}
